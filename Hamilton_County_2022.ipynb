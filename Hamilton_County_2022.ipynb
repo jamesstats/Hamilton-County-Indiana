{
 "cells": [
  {
   "cell_type": "code",
   "execution_count": 2,
   "id": "ff6cb943",
   "metadata": {},
   "outputs": [],
   "source": [
    "import geopandas as gpd\n",
    "import pandas as pd  \n",
    "import numpy as np \n",
    "import fiona"
   ]
  },
  {
   "cell_type": "code",
   "execution_count": 3,
   "id": "6fd98b1a",
   "metadata": {},
   "outputs": [],
   "source": [
    "shapefile=gpd.read_file(\"precincts_hamco/precincts_hamco.shp\") "
   ]
  },
  {
   "cell_type": "code",
   "execution_count": 4,
   "id": "e9b84a18",
   "metadata": {},
   "outputs": [],
   "source": [
    "results=pd.read_csv(\"hamilton_county.csv\")  "
   ]
  },
  {
   "cell_type": "code",
   "execution_count": 5,
   "id": "e08db154",
   "metadata": {},
   "outputs": [],
   "source": [
    "HamCo = gpd.GeoDataFrame(results.merge(shapefile, on=\"Precinct\")) "
   ]
  },
  {
   "cell_type": "code",
   "execution_count": 6,
   "id": "4e58485f",
   "metadata": {
    "scrolled": true
   },
   "outputs": [],
   "source": [
    "HamCo=HamCo.drop(['created_us','created_da','last_edite','last_edi_1','GlobalID',],axis=1)  "
   ]
  },
  {
   "cell_type": "code",
   "execution_count": 7,
   "id": "5f7e63a3",
   "metadata": {},
   "outputs": [],
   "source": [
    "HamCo.to_csv('Hamilton_County_PA_Primary.csv', index=False) "
   ]
  },
  {
   "cell_type": "code",
   "execution_count": 8,
   "id": "03f63e51",
   "metadata": {},
   "outputs": [],
   "source": [
    "HamCo.to_file(\"Hamilton_County.shp\") "
   ]
  }
 ],
 "metadata": {
  "kernelspec": {
   "display_name": "Python 3 (ipykernel)",
   "language": "python",
   "name": "python3"
  },
  "language_info": {
   "codemirror_mode": {
    "name": "ipython",
    "version": 3
   },
   "file_extension": ".py",
   "mimetype": "text/x-python",
   "name": "python",
   "nbconvert_exporter": "python",
   "pygments_lexer": "ipython3",
   "version": "3.9.7"
  }
 },
 "nbformat": 4,
 "nbformat_minor": 5
}
