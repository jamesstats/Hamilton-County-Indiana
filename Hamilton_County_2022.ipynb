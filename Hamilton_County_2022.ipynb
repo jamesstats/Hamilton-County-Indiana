{
 "cells": [
  {
   "cell_type": "code",
   "execution_count": 1,
   "id": "ff43e285",
   "metadata": {},
   "outputs": [],
   "source": [
    "import geopandas as gpd\n",
    "import pandas as pd  \n",
    "import numpy as np \n"
   ]
  },
  {
   "cell_type": "code",
   "execution_count": 53,
   "id": "d228c304",
   "metadata": {},
   "outputs": [],
   "source": [
    "shapefile=gpd.read_file(\"Hamilton County_22/Hamilton_County.shp\") "
   ]
  },
  {
   "cell_type": "code",
   "execution_count": 39,
   "id": "61d01856",
   "metadata": {},
   "outputs": [],
   "source": [
    "results=pd.read_csv(r\"/Users/jameskuria/Desktop/jupyter/hamilton_county.csv\")  "
   ]
  },
  {
   "cell_type": "code",
   "execution_count": 40,
   "id": "0e238452",
   "metadata": {},
   "outputs": [],
   "source": [
    "HamCo = gpd.GeoDataFrame(results.merge(shapefile, on=\"Precinct\")) "
   ]
  },
  {
   "cell_type": "code",
   "execution_count": 42,
   "id": "5412b8f7",
   "metadata": {
    "scrolled": true
   },
   "outputs": [],
   "source": [
    "HamCo=HamCo.drop(['created_us','created_da','last_edite','last_edi_1','GlobalID',],axis=1)  "
   ]
  },
  {
   "cell_type": "code",
   "execution_count": 45,
   "id": "90fcf707",
   "metadata": {},
   "outputs": [],
   "source": [
    "HamCo.to_csv('Hamilton_County_PA_Primary.csv', index=False) "
   ]
  },
  {
   "cell_type": "code",
   "execution_count": 44,
   "id": "441a410b",
   "metadata": {},
   "outputs": [],
   "source": [
    "HamCo.to_file(\"Hamilton_County.shp\")"
   ]
  }
 ],
 "metadata": {
  "kernelspec": {
   "display_name": "Python 3 (ipykernel)",
   "language": "python",
   "name": "python3"
  },
  "language_info": {
   "codemirror_mode": {
    "name": "ipython",
    "version": 3
   },
   "file_extension": ".py",
   "mimetype": "text/x-python",
   "name": "python",
   "nbconvert_exporter": "python",
   "pygments_lexer": "ipython3",
   "version": "3.9.7"
  }
 },
 "nbformat": 4,
 "nbformat_minor": 5
}
