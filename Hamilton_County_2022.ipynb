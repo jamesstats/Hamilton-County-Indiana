{
 "cells": [
  {
   "cell_type": "code",
   "execution_count": 1,
   "id": "c10d052d",
   "metadata": {},
   "outputs": [],
   "source": [
    "import geopandas as gpd\n",
    "import pandas as pd  \n",
    "import numpy as np \n"
   ]
  },
  {
   "cell_type": "code",
   "execution_count": 49,
   "id": "2f842a37",
   "metadata": {},
   "outputs": [],
   "source": [
    "shapefile=gpd.read_file(r\"/Users/jameskuria/Desktop/jupyter/Hamilton County_22/Hamilton_County.shp\") "
   ]
  },
  {
   "cell_type": "code",
   "execution_count": 39,
   "id": "6322d1c0",
   "metadata": {},
   "outputs": [],
   "source": [
    "results=pd.read_csv(r\"/Users/jameskuria/Desktop/jupyter/hamilton_county.csv\")  "
   ]
  },
  {
   "cell_type": "code",
   "execution_count": 40,
   "id": "c4e34a36",
   "metadata": {},
   "outputs": [],
   "source": [
    "HamCo = gpd.GeoDataFrame(results.merge(shapefile, on=\"Precinct\")) "
   ]
  },
  {
   "cell_type": "code",
   "execution_count": 42,
   "id": "c614d85d",
   "metadata": {
    "scrolled": true
   },
   "outputs": [],
   "source": [
    "HamCo=HamCo.drop(['created_us','created_da','last_edite','last_edi_1','GlobalID',],axis=1)  "
   ]
  },
  {
   "cell_type": "code",
   "execution_count": 45,
   "id": "78e8696e",
   "metadata": {},
   "outputs": [],
   "source": [
    "HamCo.to_csv('Hamilton_County_PA_Primary.csv', index=False) "
   ]
  },
  {
   "cell_type": "code",
   "execution_count": 44,
   "id": "2ae73806",
   "metadata": {},
   "outputs": [],
   "source": [
    "HamCo.to_file(\"Hamilton_County.shp\")"
   ]
  }
 ],
 "metadata": {
  "kernelspec": {
   "display_name": "Python 3 (ipykernel)",
   "language": "python",
   "name": "python3"
  },
  "language_info": {
   "codemirror_mode": {
    "name": "ipython",
    "version": 3
   },
   "file_extension": ".py",
   "mimetype": "text/x-python",
   "name": "python",
   "nbconvert_exporter": "python",
   "pygments_lexer": "ipython3",
   "version": "3.9.7"
  }
 },
 "nbformat": 4,
 "nbformat_minor": 5
}
